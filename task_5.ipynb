{
  "nbformat": 4,
  "nbformat_minor": 0,
  "metadata": {
    "colab": {
      "provenance": [],
      "authorship_tag": "ABX9TyPCw0dgJEMXKZMFrgtWz1CJ",
      "include_colab_link": true
    },
    "kernelspec": {
      "name": "python3",
      "display_name": "Python 3"
    },
    "language_info": {
      "name": "python"
    }
  },
  "cells": [
    {
      "cell_type": "markdown",
      "metadata": {
        "id": "view-in-github",
        "colab_type": "text"
      },
      "source": [
        "<a href=\"https://colab.research.google.com/github/sudev-das-p/Assessment2B/blob/main/task_5.ipynb\" target=\"_parent\"><img src=\"https://colab.research.google.com/assets/colab-badge.svg\" alt=\"Open In Colab\"/></a>"
      ]
    },
    {
      "cell_type": "code",
      "execution_count": null,
      "metadata": {
        "colab": {
          "base_uri": "https://localhost:8080/"
        },
        "id": "I6HW_rUVoqmj",
        "outputId": "560d9168-b92a-45f0-c0c7-27a885a343b1"
      },
      "outputs": [
        {
          "output_type": "stream",
          "name": "stdout",
          "text": [
            "(12000, 10)\n"
          ]
        },
        {
          "output_type": "execute_result",
          "data": {
            "text/plain": [
              "ORG_INVITE            0.354500\n",
              "GUEST_INVITE          0.180250\n",
              "PERSONAL_PROJECTS     0.175917\n",
              "SIGNUP                0.173917\n",
              "SIGNUP_GOOGLE_AUTH    0.115417\n",
              "Name: creation_source, dtype: float64"
            ]
          },
          "metadata": {},
          "execution_count": 14
        }
      ],
      "source": [
        "import pandas as pd\n",
        "from datetime import datetime\n",
        "from sklearn.preprocessing import OneHotEncoder\n",
        "user_engagement = pd.read_csv('/content/sample_data/takehome_user_engagement.csv',parse_dates = ['time_stamp'])\n",
        "user = df = pd.read_csv('/content/sample_data/takehome_users.csv', encoding='ISO-8859-1')\n",
        "user['last_session_creation_time'] = pd.to_datetime(user['last_session_creation_time'],unit = 's')\n",
        "user['last_session_creation_time'].interpolate(method='bfill', inplace=True)\n",
        "print(user.shape)\n",
        "user['creation_source'].value_counts(normalize = True)"
      ]
    },
    {
      "cell_type": "code",
      "source": [
        "import pandas as pd\n",
        "import numpy as np # For mathematical calculations \n",
        "import seaborn as sns # For data visualization \n",
        "import matplotlib.pyplot as plt # For plotting graphs\n",
        "%matplotlib inline\n",
        "import warnings # To ignore any warnings \n",
        "from datetime import datetime\n",
        "user['last_session_creation_time'] = pd.to_datetime(user['last_session_creation_time'],unit = 's')\n",
        "user['last_session_creation_time'].interpolate(method='bfill', inplace=True)\n"
      ],
      "metadata": {
        "id": "-wHHPEIJqRou"
      },
      "execution_count": null,
      "outputs": []
    },
    {
      "cell_type": "code",
      "source": [
        "user_engagement = pd.read_csv('/content/sample_data/takehome_user_engagement.csv',parse_dates = ['time_stamp'])\n",
        "user = df = pd.read_csv('/content/sample_data/takehome_users.csv', encoding='ISO-8859-1')"
      ],
      "metadata": {
        "id": "kR_NUZCCzkq_"
      },
      "execution_count": null,
      "outputs": []
    },
    {
      "cell_type": "code",
      "source": [
        "from sklearn.preprocessing import OneHotEncoder\n",
        "ohe = OneHotEncoder(sparse = False)\n",
        "encoded = ohe.fit_transform(user[['creation_source']])\n",
        "encoded_df = pd.DataFrame(encoded, columns = ['guest_invite','org_invite','personal_project','signup','signup_google_auth'])\n",
        "user = pd.concat([user,encoded_df],axis = 1)\n",
        "user = user.drop('creation_source',axis = 1)"
      ],
      "metadata": {
        "id": "iJegbH6p0sGo"
      },
      "execution_count": null,
      "outputs": []
    },
    {
      "cell_type": "code",
      "source": [
        "grouped = user_engagement.groupby('user_id').resample('7D', on='time_stamp').sum()\n",
        "result = grouped[grouped['visited'] >= 3].user_id.unique()\n",
        "user['adopted_or_not'] = user['object_id'].isin(result)"
      ],
      "metadata": {
        "id": "wva2_uyFwQEZ"
      },
      "execution_count": 57,
      "outputs": []
    },
    {
      "cell_type": "code",
      "source": [
        "user['adopted_or_not'].value_counts(normalize = True)"
      ],
      "metadata": {
        "id": "9BSdaHnHsEpF",
        "colab": {
          "base_uri": "https://localhost:8080/"
        },
        "outputId": "9a7a0c81-d7f3-43a8-8606-1ccc9d7878f1"
      },
      "execution_count": null,
      "outputs": [
        {
          "output_type": "execute_result",
          "data": {
            "text/plain": [
              "Non Adopted    0.911333\n",
              "Adopted        0.088667\n",
              "Name: adopted_or_not, dtype: float64"
            ]
          },
          "metadata": {},
          "execution_count": 12
        }
      ]
    },
    {
      "cell_type": "code",
      "source": [
        "user['opted_in_to_mailing_list'].replace(1,True,inplace = True)\n",
        "user['opted_in_to_mailing_list'].replace(0,False,inplace = True)\n",
        "user['enabled_for_marketing_drip'].replace(1,True,inplace = True)\n",
        "user['enabled_for_marketing_drip'].replace(0,False,inplace = True)\n",
        "user['guest_invite'].replace(1,True,inplace = True)\n",
        "user['guest_invite'].replace(0,False,inplace = True)\n",
        "user['org_invite'].replace(0,False,inplace = True)\n",
        "user['org_invite'].replace(1,True,inplace = True)\n",
        "user['personal_project'].replace(1,True,inplace = True)\n",
        "user['personal_project'].replace(0,False,inplace = True)\n",
        "user['signup'].replace(1,True,inplace = True)\n",
        "user['signup'].replace(0,False,inplace = True)\n",
        "user['signup_google_auth'].replace(1,True,inplace = True)\n",
        "user['signup_google_auth'].replace(0,False,inplace = True)\n",
        "user"
      ],
      "metadata": {
        "colab": {
          "base_uri": "https://localhost:8080/",
          "height": 468
        },
        "id": "LWHEm_tdJnE_",
        "outputId": "bb6b8cf3-ab96-4fc2-ffbd-7b126a86a7d4"
      },
      "execution_count": 58,
      "outputs": [
        {
          "output_type": "execute_result",
          "data": {
            "text/plain": [
              "       object_id        creation_time               name  \\\n",
              "0              1  2014-04-22 03:53:30     Clausen August   \n",
              "1              2  2013-11-15 03:45:04      Poole Matthew   \n",
              "2              3  2013-03-19 23:14:52  Bottrill Mitchell   \n",
              "3              4  2013-05-21 08:09:28    Clausen Nicklas   \n",
              "4              5  2013-01-17 10:14:20          Raw Grace   \n",
              "...          ...                  ...                ...   \n",
              "11995      11996  2013-09-06 06:14:15       Meier Sophia   \n",
              "11996      11997  2013-01-10 18:28:37      Fisher Amelie   \n",
              "11997      11998  2014-04-27 12:45:16        Haynes Jake   \n",
              "11998      11999  2012-05-31 11:55:59       Faber Annett   \n",
              "11999      12000  2014-01-26 08:57:12         Lima Thaís   \n",
              "\n",
              "                            email last_session_creation_time  \\\n",
              "0        AugustCClausen@yahoo.com        2014-04-22 03:53:30   \n",
              "1          MatthewPoole@gustr.com        2014-03-31 03:45:04   \n",
              "2      MitchellBottrill@gustr.com        2013-03-19 23:14:52   \n",
              "3       NicklasSClausen@yahoo.com        2013-05-22 08:09:28   \n",
              "4              GraceRaw@yahoo.com        2013-01-22 10:14:20   \n",
              "...                           ...                        ...   \n",
              "11995       SophiaMeier@gustr.com        2013-09-06 06:14:15   \n",
              "11996      AmelieFisher@gmail.com        2013-01-15 18:28:37   \n",
              "11997         JakeHaynes@cuvox.de        2014-04-27 12:45:16   \n",
              "11998          mhaerzxp@iuxiw.com        2012-06-02 11:55:59   \n",
              "11999   ThaisMeloLima@hotmail.com        2014-01-26 08:57:12   \n",
              "\n",
              "       opted_in_to_mailing_list  enabled_for_marketing_drip  org_id  \\\n",
              "0                          True                       False      11   \n",
              "1                         False                       False       1   \n",
              "2                         False                       False      94   \n",
              "3                         False                       False       1   \n",
              "4                         False                       False     193   \n",
              "...                         ...                         ...     ...   \n",
              "11995                     False                       False      89   \n",
              "11996                     False                       False     200   \n",
              "11997                      True                        True      83   \n",
              "11998                     False                       False       6   \n",
              "11999                     False                        True       0   \n",
              "\n",
              "       invited_by_user_id  guest_invite  org_invite  personal_project  signup  \\\n",
              "0                 10803.0          True       False             False   False   \n",
              "1                   316.0         False        True             False   False   \n",
              "2                  1525.0         False        True             False   False   \n",
              "3                  5151.0          True       False             False   False   \n",
              "4                  5240.0          True       False             False   False   \n",
              "...                   ...           ...         ...               ...     ...   \n",
              "11995              8263.0         False        True             False   False   \n",
              "11996                 NaN         False       False             False   False   \n",
              "11997              8074.0          True       False             False   False   \n",
              "11998                 NaN         False       False              True   False   \n",
              "11999                 NaN         False       False             False    True   \n",
              "\n",
              "       signup_google_auth  adopted_or_not  \n",
              "0                   False           False  \n",
              "1                   False           False  \n",
              "2                   False           False  \n",
              "3                   False           False  \n",
              "4                   False           False  \n",
              "...                   ...             ...  \n",
              "11995               False           False  \n",
              "11996                True           False  \n",
              "11997               False           False  \n",
              "11998               False           False  \n",
              "11999               False           False  \n",
              "\n",
              "[12000 rows x 15 columns]"
            ],
            "text/html": [
              "\n",
              "  <div id=\"df-d757fd2a-1aea-469c-b352-f26646bb2425\">\n",
              "    <div class=\"colab-df-container\">\n",
              "      <div>\n",
              "<style scoped>\n",
              "    .dataframe tbody tr th:only-of-type {\n",
              "        vertical-align: middle;\n",
              "    }\n",
              "\n",
              "    .dataframe tbody tr th {\n",
              "        vertical-align: top;\n",
              "    }\n",
              "\n",
              "    .dataframe thead th {\n",
              "        text-align: right;\n",
              "    }\n",
              "</style>\n",
              "<table border=\"1\" class=\"dataframe\">\n",
              "  <thead>\n",
              "    <tr style=\"text-align: right;\">\n",
              "      <th></th>\n",
              "      <th>object_id</th>\n",
              "      <th>creation_time</th>\n",
              "      <th>name</th>\n",
              "      <th>email</th>\n",
              "      <th>last_session_creation_time</th>\n",
              "      <th>opted_in_to_mailing_list</th>\n",
              "      <th>enabled_for_marketing_drip</th>\n",
              "      <th>org_id</th>\n",
              "      <th>invited_by_user_id</th>\n",
              "      <th>guest_invite</th>\n",
              "      <th>org_invite</th>\n",
              "      <th>personal_project</th>\n",
              "      <th>signup</th>\n",
              "      <th>signup_google_auth</th>\n",
              "      <th>adopted_or_not</th>\n",
              "    </tr>\n",
              "  </thead>\n",
              "  <tbody>\n",
              "    <tr>\n",
              "      <th>0</th>\n",
              "      <td>1</td>\n",
              "      <td>2014-04-22 03:53:30</td>\n",
              "      <td>Clausen August</td>\n",
              "      <td>AugustCClausen@yahoo.com</td>\n",
              "      <td>2014-04-22 03:53:30</td>\n",
              "      <td>True</td>\n",
              "      <td>False</td>\n",
              "      <td>11</td>\n",
              "      <td>10803.0</td>\n",
              "      <td>True</td>\n",
              "      <td>False</td>\n",
              "      <td>False</td>\n",
              "      <td>False</td>\n",
              "      <td>False</td>\n",
              "      <td>False</td>\n",
              "    </tr>\n",
              "    <tr>\n",
              "      <th>1</th>\n",
              "      <td>2</td>\n",
              "      <td>2013-11-15 03:45:04</td>\n",
              "      <td>Poole Matthew</td>\n",
              "      <td>MatthewPoole@gustr.com</td>\n",
              "      <td>2014-03-31 03:45:04</td>\n",
              "      <td>False</td>\n",
              "      <td>False</td>\n",
              "      <td>1</td>\n",
              "      <td>316.0</td>\n",
              "      <td>False</td>\n",
              "      <td>True</td>\n",
              "      <td>False</td>\n",
              "      <td>False</td>\n",
              "      <td>False</td>\n",
              "      <td>False</td>\n",
              "    </tr>\n",
              "    <tr>\n",
              "      <th>2</th>\n",
              "      <td>3</td>\n",
              "      <td>2013-03-19 23:14:52</td>\n",
              "      <td>Bottrill Mitchell</td>\n",
              "      <td>MitchellBottrill@gustr.com</td>\n",
              "      <td>2013-03-19 23:14:52</td>\n",
              "      <td>False</td>\n",
              "      <td>False</td>\n",
              "      <td>94</td>\n",
              "      <td>1525.0</td>\n",
              "      <td>False</td>\n",
              "      <td>True</td>\n",
              "      <td>False</td>\n",
              "      <td>False</td>\n",
              "      <td>False</td>\n",
              "      <td>False</td>\n",
              "    </tr>\n",
              "    <tr>\n",
              "      <th>3</th>\n",
              "      <td>4</td>\n",
              "      <td>2013-05-21 08:09:28</td>\n",
              "      <td>Clausen Nicklas</td>\n",
              "      <td>NicklasSClausen@yahoo.com</td>\n",
              "      <td>2013-05-22 08:09:28</td>\n",
              "      <td>False</td>\n",
              "      <td>False</td>\n",
              "      <td>1</td>\n",
              "      <td>5151.0</td>\n",
              "      <td>True</td>\n",
              "      <td>False</td>\n",
              "      <td>False</td>\n",
              "      <td>False</td>\n",
              "      <td>False</td>\n",
              "      <td>False</td>\n",
              "    </tr>\n",
              "    <tr>\n",
              "      <th>4</th>\n",
              "      <td>5</td>\n",
              "      <td>2013-01-17 10:14:20</td>\n",
              "      <td>Raw Grace</td>\n",
              "      <td>GraceRaw@yahoo.com</td>\n",
              "      <td>2013-01-22 10:14:20</td>\n",
              "      <td>False</td>\n",
              "      <td>False</td>\n",
              "      <td>193</td>\n",
              "      <td>5240.0</td>\n",
              "      <td>True</td>\n",
              "      <td>False</td>\n",
              "      <td>False</td>\n",
              "      <td>False</td>\n",
              "      <td>False</td>\n",
              "      <td>False</td>\n",
              "    </tr>\n",
              "    <tr>\n",
              "      <th>...</th>\n",
              "      <td>...</td>\n",
              "      <td>...</td>\n",
              "      <td>...</td>\n",
              "      <td>...</td>\n",
              "      <td>...</td>\n",
              "      <td>...</td>\n",
              "      <td>...</td>\n",
              "      <td>...</td>\n",
              "      <td>...</td>\n",
              "      <td>...</td>\n",
              "      <td>...</td>\n",
              "      <td>...</td>\n",
              "      <td>...</td>\n",
              "      <td>...</td>\n",
              "      <td>...</td>\n",
              "    </tr>\n",
              "    <tr>\n",
              "      <th>11995</th>\n",
              "      <td>11996</td>\n",
              "      <td>2013-09-06 06:14:15</td>\n",
              "      <td>Meier Sophia</td>\n",
              "      <td>SophiaMeier@gustr.com</td>\n",
              "      <td>2013-09-06 06:14:15</td>\n",
              "      <td>False</td>\n",
              "      <td>False</td>\n",
              "      <td>89</td>\n",
              "      <td>8263.0</td>\n",
              "      <td>False</td>\n",
              "      <td>True</td>\n",
              "      <td>False</td>\n",
              "      <td>False</td>\n",
              "      <td>False</td>\n",
              "      <td>False</td>\n",
              "    </tr>\n",
              "    <tr>\n",
              "      <th>11996</th>\n",
              "      <td>11997</td>\n",
              "      <td>2013-01-10 18:28:37</td>\n",
              "      <td>Fisher Amelie</td>\n",
              "      <td>AmelieFisher@gmail.com</td>\n",
              "      <td>2013-01-15 18:28:37</td>\n",
              "      <td>False</td>\n",
              "      <td>False</td>\n",
              "      <td>200</td>\n",
              "      <td>NaN</td>\n",
              "      <td>False</td>\n",
              "      <td>False</td>\n",
              "      <td>False</td>\n",
              "      <td>False</td>\n",
              "      <td>True</td>\n",
              "      <td>False</td>\n",
              "    </tr>\n",
              "    <tr>\n",
              "      <th>11997</th>\n",
              "      <td>11998</td>\n",
              "      <td>2014-04-27 12:45:16</td>\n",
              "      <td>Haynes Jake</td>\n",
              "      <td>JakeHaynes@cuvox.de</td>\n",
              "      <td>2014-04-27 12:45:16</td>\n",
              "      <td>True</td>\n",
              "      <td>True</td>\n",
              "      <td>83</td>\n",
              "      <td>8074.0</td>\n",
              "      <td>True</td>\n",
              "      <td>False</td>\n",
              "      <td>False</td>\n",
              "      <td>False</td>\n",
              "      <td>False</td>\n",
              "      <td>False</td>\n",
              "    </tr>\n",
              "    <tr>\n",
              "      <th>11998</th>\n",
              "      <td>11999</td>\n",
              "      <td>2012-05-31 11:55:59</td>\n",
              "      <td>Faber Annett</td>\n",
              "      <td>mhaerzxp@iuxiw.com</td>\n",
              "      <td>2012-06-02 11:55:59</td>\n",
              "      <td>False</td>\n",
              "      <td>False</td>\n",
              "      <td>6</td>\n",
              "      <td>NaN</td>\n",
              "      <td>False</td>\n",
              "      <td>False</td>\n",
              "      <td>True</td>\n",
              "      <td>False</td>\n",
              "      <td>False</td>\n",
              "      <td>False</td>\n",
              "    </tr>\n",
              "    <tr>\n",
              "      <th>11999</th>\n",
              "      <td>12000</td>\n",
              "      <td>2014-01-26 08:57:12</td>\n",
              "      <td>Lima Thaís</td>\n",
              "      <td>ThaisMeloLima@hotmail.com</td>\n",
              "      <td>2014-01-26 08:57:12</td>\n",
              "      <td>False</td>\n",
              "      <td>True</td>\n",
              "      <td>0</td>\n",
              "      <td>NaN</td>\n",
              "      <td>False</td>\n",
              "      <td>False</td>\n",
              "      <td>False</td>\n",
              "      <td>True</td>\n",
              "      <td>False</td>\n",
              "      <td>False</td>\n",
              "    </tr>\n",
              "  </tbody>\n",
              "</table>\n",
              "<p>12000 rows × 15 columns</p>\n",
              "</div>\n",
              "      <button class=\"colab-df-convert\" onclick=\"convertToInteractive('df-d757fd2a-1aea-469c-b352-f26646bb2425')\"\n",
              "              title=\"Convert this dataframe to an interactive table.\"\n",
              "              style=\"display:none;\">\n",
              "        \n",
              "  <svg xmlns=\"http://www.w3.org/2000/svg\" height=\"24px\"viewBox=\"0 0 24 24\"\n",
              "       width=\"24px\">\n",
              "    <path d=\"M0 0h24v24H0V0z\" fill=\"none\"/>\n",
              "    <path d=\"M18.56 5.44l.94 2.06.94-2.06 2.06-.94-2.06-.94-.94-2.06-.94 2.06-2.06.94zm-11 1L8.5 8.5l.94-2.06 2.06-.94-2.06-.94L8.5 2.5l-.94 2.06-2.06.94zm10 10l.94 2.06.94-2.06 2.06-.94-2.06-.94-.94-2.06-.94 2.06-2.06.94z\"/><path d=\"M17.41 7.96l-1.37-1.37c-.4-.4-.92-.59-1.43-.59-.52 0-1.04.2-1.43.59L10.3 9.45l-7.72 7.72c-.78.78-.78 2.05 0 2.83L4 21.41c.39.39.9.59 1.41.59.51 0 1.02-.2 1.41-.59l7.78-7.78 2.81-2.81c.8-.78.8-2.07 0-2.86zM5.41 20L4 18.59l7.72-7.72 1.47 1.35L5.41 20z\"/>\n",
              "  </svg>\n",
              "      </button>\n",
              "      \n",
              "  <style>\n",
              "    .colab-df-container {\n",
              "      display:flex;\n",
              "      flex-wrap:wrap;\n",
              "      gap: 12px;\n",
              "    }\n",
              "\n",
              "    .colab-df-convert {\n",
              "      background-color: #E8F0FE;\n",
              "      border: none;\n",
              "      border-radius: 50%;\n",
              "      cursor: pointer;\n",
              "      display: none;\n",
              "      fill: #1967D2;\n",
              "      height: 32px;\n",
              "      padding: 0 0 0 0;\n",
              "      width: 32px;\n",
              "    }\n",
              "\n",
              "    .colab-df-convert:hover {\n",
              "      background-color: #E2EBFA;\n",
              "      box-shadow: 0px 1px 2px rgba(60, 64, 67, 0.3), 0px 1px 3px 1px rgba(60, 64, 67, 0.15);\n",
              "      fill: #174EA6;\n",
              "    }\n",
              "\n",
              "    [theme=dark] .colab-df-convert {\n",
              "      background-color: #3B4455;\n",
              "      fill: #D2E3FC;\n",
              "    }\n",
              "\n",
              "    [theme=dark] .colab-df-convert:hover {\n",
              "      background-color: #434B5C;\n",
              "      box-shadow: 0px 1px 3px 1px rgba(0, 0, 0, 0.15);\n",
              "      filter: drop-shadow(0px 1px 2px rgba(0, 0, 0, 0.3));\n",
              "      fill: #FFFFFF;\n",
              "    }\n",
              "  </style>\n",
              "\n",
              "      <script>\n",
              "        const buttonEl =\n",
              "          document.querySelector('#df-d757fd2a-1aea-469c-b352-f26646bb2425 button.colab-df-convert');\n",
              "        buttonEl.style.display =\n",
              "          google.colab.kernel.accessAllowed ? 'block' : 'none';\n",
              "\n",
              "        async function convertToInteractive(key) {\n",
              "          const element = document.querySelector('#df-d757fd2a-1aea-469c-b352-f26646bb2425');\n",
              "          const dataTable =\n",
              "            await google.colab.kernel.invokeFunction('convertToInteractive',\n",
              "                                                     [key], {});\n",
              "          if (!dataTable) return;\n",
              "\n",
              "          const docLinkHtml = 'Like what you see? Visit the ' +\n",
              "            '<a target=\"_blank\" href=https://colab.research.google.com/notebooks/data_table.ipynb>data table notebook</a>'\n",
              "            + ' to learn more about interactive tables.';\n",
              "          element.innerHTML = '';\n",
              "          dataTable['output_type'] = 'display_data';\n",
              "          await google.colab.output.renderOutput(dataTable, element);\n",
              "          const docLink = document.createElement('div');\n",
              "          docLink.innerHTML = docLinkHtml;\n",
              "          element.appendChild(docLink);\n",
              "        }\n",
              "      </script>\n",
              "    </div>\n",
              "  </div>\n",
              "  "
            ]
          },
          "metadata": {},
          "execution_count": 58
        }
      ]
    },
    {
      "cell_type": "code",
      "source": [
        "mailing_list=pd.crosstab(user['opted_in_to_mailing_list'],user['adopted_or_not']) \n",
        "mailing_list.div(mailing_list.sum(1).astype(float), axis=0).plot(kind=\"bar\", stacked=True, figsize=(8,8))"
      ],
      "metadata": {
        "colab": {
          "base_uri": "https://localhost:8080/",
          "height": 530
        },
        "id": "QLYKAzIqFxnL",
        "outputId": "809981cf-d51e-4e2a-e947-3843e069543c"
      },
      "execution_count": 56,
      "outputs": [
        {
          "output_type": "execute_result",
          "data": {
            "text/plain": [
              "<matplotlib.axes._subplots.AxesSubplot at 0x7f131d740d90>"
            ]
          },
          "metadata": {},
          "execution_count": 56
        },
        {
          "output_type": "display_data",
          "data": {
            "text/plain": [
              "<Figure size 576x576 with 1 Axes>"
            ],
            "image/png": "[encoded data removed]"
          },
          "metadata": {
            "needs_background": "light"
          }
        }
      ]
    },
    {
      "cell_type": "code",
      "source": [
        "marketing_drip=pd.crosstab(user['enabled_for_marketing_drip'],user['adopted_or_not']) \n",
        "marketing_drip.div(marketing_drip.sum(1).astype(float), axis=0).plot(kind=\"bar\", stacked=True, figsize=(8,8))"
      ],
      "metadata": {
        "colab": {
          "base_uri": "https://localhost:8080/",
          "height": 530
        },
        "id": "xynteElRJqYp",
        "outputId": "4c1dda93-7636-4d73-8e23-7b14a225824c"
      },
      "execution_count": 61,
      "outputs": [
        {
          "output_type": "execute_result",
          "data": {
            "text/plain": [
              "<matplotlib.axes._subplots.AxesSubplot at 0x7f131d724f70>"
            ]
          },
          "metadata": {},
          "execution_count": 61
        },
        {
          "output_type": "display_data",
          "data": {
            "text/plain": [
              "<Figure size 576x576 with 1 Axes>"
            ],
            "image/png": "[encoded data removed]"
          },
          "metadata": {
            "needs_background": "light"
          }
        }
      ]
    },
    {
      "cell_type": "code",
      "source": [
        "org_invite=pd.crosstab(user['org_invite'],user['adopted_or_not']) \n",
        "org_invite.div(org_invite.sum(1).astype(float), axis=0).plot(kind=\"bar\", stacked=True, figsize=(8,8))"
      ],
      "metadata": {
        "colab": {
          "base_uri": "https://localhost:8080/",
          "height": 530
        },
        "id": "I9LMRImwJZJG",
        "outputId": "2cbb6834-737e-47a2-a5ce-6e252d6eb51b"
      },
      "execution_count": 63,
      "outputs": [
        {
          "output_type": "execute_result",
          "data": {
            "text/plain": [
              "<matplotlib.axes._subplots.AxesSubplot at 0x7f131d649340>"
            ]
          },
          "metadata": {},
          "execution_count": 63
        },
        {
          "output_type": "display_data",
          "data": {
            "text/plain": [
              "<Figure size 576x576 with 1 Axes>"
            ],
            "image/png": "[encoded data removed]"
          },
          "metadata": {
            "needs_background": "light"
          }
        }
      ]
    },
    {
      "cell_type": "code",
      "source": [
        "personal_project=pd.crosstab(user['personal_project'],user['adopted_or_not']) \n",
        "personal_project.div(personal_project.sum(1).astype(float), axis=0).plot(kind=\"bar\", stacked=True, figsize=(8,8))"
      ],
      "metadata": {
        "colab": {
          "base_uri": "https://localhost:8080/",
          "height": 530
        },
        "id": "I6nw5rHJKTCr",
        "outputId": "5a17c29d-b8fa-45bd-a5ab-e28ebd8f381a"
      },
      "execution_count": 64,
      "outputs": [
        {
          "output_type": "execute_result",
          "data": {
            "text/plain": [
              "<matplotlib.axes._subplots.AxesSubplot at 0x7f131d6f6610>"
            ]
          },
          "metadata": {},
          "execution_count": 64
        },
        {
          "output_type": "display_data",
          "data": {
            "text/plain": [
              "<Figure size 576x576 with 1 Axes>"
            ],
            "image/png": "[encoded data removed]"
          },
          "metadata": {
            "needs_background": "light"
          }
        }
      ]
    },
    {
      "cell_type": "code",
      "source": [
        "signup_google_auth=pd.crosstab(user['signup_google_auth'],user['adopted_or_not']) \n",
        "signup_google_auth.div(signup_google_auth.sum(1).astype(float), axis=0).plot(kind=\"bar\", stacked=True, figsize=(8,8))"
      ],
      "metadata": {
        "colab": {
          "base_uri": "https://localhost:8080/",
          "height": 530
        },
        "id": "vPUcDOEeKKJl",
        "outputId": "118fe99f-6b55-4a73-c935-00e2dfc13a8e"
      },
      "execution_count": 65,
      "outputs": [
        {
          "output_type": "execute_result",
          "data": {
            "text/plain": [
              "<matplotlib.axes._subplots.AxesSubplot at 0x7f131d753160>"
            ]
          },
          "metadata": {},
          "execution_count": 65
        },
        {
          "output_type": "display_data",
          "data": {
            "text/plain": [
              "<Figure size 576x576 with 1 Axes>"
            ],
            "image/png": "[encoded data removed]"
          },
          "metadata": {
            "needs_background": "light"
          }
        }
      ]
    },
    {
      "cell_type": "code",
      "source": [
        "X = user[['opted_in_to_mailing_list',\t'enabled_for_marketing_drip'\t,'org_id',\t'guest_invite',\t'org_invite',\t'personal_project',\t'signup',\t'signup_google_auth']]\n",
        "y = user.iloc[:,-1]"
      ],
      "metadata": {
        "id": "w8bJygPNzjE2"
      },
      "execution_count": 43,
      "outputs": []
    },
    {
      "cell_type": "code",
      "source": [],
      "metadata": {
        "id": "f55_-xYT76N5",
        "colab": {
          "base_uri": "https://localhost:8080/",
          "height": 468
        },
        "outputId": "031ccbfc-000c-46b5-a16f-6ef905597735"
      },
      "execution_count": 52,
      "outputs": [
        {
          "output_type": "execute_result",
          "data": {
            "text/plain": [
              "       object_id        creation_time               name  \\\n",
              "0              1  2014-04-22 03:53:30     Clausen August   \n",
              "1              2  2013-11-15 03:45:04      Poole Matthew   \n",
              "2              3  2013-03-19 23:14:52  Bottrill Mitchell   \n",
              "3              4  2013-05-21 08:09:28    Clausen Nicklas   \n",
              "4              5  2013-01-17 10:14:20          Raw Grace   \n",
              "...          ...                  ...                ...   \n",
              "11995      11996  2013-09-06 06:14:15       Meier Sophia   \n",
              "11996      11997  2013-01-10 18:28:37      Fisher Amelie   \n",
              "11997      11998  2014-04-27 12:45:16        Haynes Jake   \n",
              "11998      11999  2012-05-31 11:55:59       Faber Annett   \n",
              "11999      12000  2014-01-26 08:57:12         Lima Thaís   \n",
              "\n",
              "                            email last_session_creation_time  \\\n",
              "0        AugustCClausen@yahoo.com        2014-04-22 03:53:30   \n",
              "1          MatthewPoole@gustr.com        2014-03-31 03:45:04   \n",
              "2      MitchellBottrill@gustr.com        2013-03-19 23:14:52   \n",
              "3       NicklasSClausen@yahoo.com        2013-05-22 08:09:28   \n",
              "4              GraceRaw@yahoo.com        2013-01-22 10:14:20   \n",
              "...                           ...                        ...   \n",
              "11995       SophiaMeier@gustr.com        2013-09-06 06:14:15   \n",
              "11996      AmelieFisher@gmail.com        2013-01-15 18:28:37   \n",
              "11997         JakeHaynes@cuvox.de        2014-04-27 12:45:16   \n",
              "11998          mhaerzxp@iuxiw.com        2012-06-02 11:55:59   \n",
              "11999   ThaisMeloLima@hotmail.com        2014-01-26 08:57:12   \n",
              "\n",
              "       opted_in_to_mailing_list  enabled_for_marketing_drip  org_id  \\\n",
              "0                          True                       False      11   \n",
              "1                         False                       False       1   \n",
              "2                         False                       False      94   \n",
              "3                         False                       False       1   \n",
              "4                         False                       False     193   \n",
              "...                         ...                         ...     ...   \n",
              "11995                     False                       False      89   \n",
              "11996                     False                       False     200   \n",
              "11997                      True                        True      83   \n",
              "11998                     False                       False       6   \n",
              "11999                     False                        True       0   \n",
              "\n",
              "       invited_by_user_id  guest_invite  org_invite  personal_project  signup  \\\n",
              "0                 10803.0          True       False             False   False   \n",
              "1                   316.0         False        True             False   False   \n",
              "2                  1525.0         False        True             False   False   \n",
              "3                  5151.0          True       False             False   False   \n",
              "4                  5240.0          True       False             False   False   \n",
              "...                   ...           ...         ...               ...     ...   \n",
              "11995              8263.0         False        True             False   False   \n",
              "11996                 NaN         False       False             False   False   \n",
              "11997              8074.0          True       False             False   False   \n",
              "11998                 NaN         False       False              True   False   \n",
              "11999                 NaN         False       False             False    True   \n",
              "\n",
              "       signup_google_auth  adopted_or_not  \n",
              "0                   False               0  \n",
              "1                   False               0  \n",
              "2                   False               0  \n",
              "3                   False               0  \n",
              "4                   False               0  \n",
              "...                   ...             ...  \n",
              "11995               False               0  \n",
              "11996                True               0  \n",
              "11997               False               0  \n",
              "11998               False               0  \n",
              "11999               False               0  \n",
              "\n",
              "[12000 rows x 15 columns]"
            ],
            "text/html": [
              "\n",
              "  <div id=\"df-084c685c-ffbb-490d-85a4-7b99dbd699bf\">\n",
              "    <div class=\"colab-df-container\">\n",
              "      <div>\n",
              "<style scoped>\n",
              "    .dataframe tbody tr th:only-of-type {\n",
              "        vertical-align: middle;\n",
              "    }\n",
              "\n",
              "    .dataframe tbody tr th {\n",
              "        vertical-align: top;\n",
              "    }\n",
              "\n",
              "    .dataframe thead th {\n",
              "        text-align: right;\n",
              "    }\n",
              "</style>\n",
              "<table border=\"1\" class=\"dataframe\">\n",
              "  <thead>\n",
              "    <tr style=\"text-align: right;\">\n",
              "      <th></th>\n",
              "      <th>object_id</th>\n",
              "      <th>creation_time</th>\n",
              "      <th>name</th>\n",
              "      <th>email</th>\n",
              "      <th>last_session_creation_time</th>\n",
              "      <th>opted_in_to_mailing_list</th>\n",
              "      <th>enabled_for_marketing_drip</th>\n",
              "      <th>org_id</th>\n",
              "      <th>invited_by_user_id</th>\n",
              "      <th>guest_invite</th>\n",
              "      <th>org_invite</th>\n",
              "      <th>personal_project</th>\n",
              "      <th>signup</th>\n",
              "      <th>signup_google_auth</th>\n",
              "      <th>adopted_or_not</th>\n",
              "    </tr>\n",
              "  </thead>\n",
              "  <tbody>\n",
              "    <tr>\n",
              "      <th>0</th>\n",
              "      <td>1</td>\n",
              "      <td>2014-04-22 03:53:30</td>\n",
              "      <td>Clausen August</td>\n",
              "      <td>AugustCClausen@yahoo.com</td>\n",
              "      <td>2014-04-22 03:53:30</td>\n",
              "      <td>True</td>\n",
              "      <td>False</td>\n",
              "      <td>11</td>\n",
              "      <td>10803.0</td>\n",
              "      <td>True</td>\n",
              "      <td>False</td>\n",
              "      <td>False</td>\n",
              "      <td>False</td>\n",
              "      <td>False</td>\n",
              "      <td>0</td>\n",
              "    </tr>\n",
              "    <tr>\n",
              "      <th>1</th>\n",
              "      <td>2</td>\n",
              "      <td>2013-11-15 03:45:04</td>\n",
              "      <td>Poole Matthew</td>\n",
              "      <td>MatthewPoole@gustr.com</td>\n",
              "      <td>2014-03-31 03:45:04</td>\n",
              "      <td>False</td>\n",
              "      <td>False</td>\n",
              "      <td>1</td>\n",
              "      <td>316.0</td>\n",
              "      <td>False</td>\n",
              "      <td>True</td>\n",
              "      <td>False</td>\n",
              "      <td>False</td>\n",
              "      <td>False</td>\n",
              "      <td>0</td>\n",
              "    </tr>\n",
              "    <tr>\n",
              "      <th>2</th>\n",
              "      <td>3</td>\n",
              "      <td>2013-03-19 23:14:52</td>\n",
              "      <td>Bottrill Mitchell</td>\n",
              "      <td>MitchellBottrill@gustr.com</td>\n",
              "      <td>2013-03-19 23:14:52</td>\n",
              "      <td>False</td>\n",
              "      <td>False</td>\n",
              "      <td>94</td>\n",
              "      <td>1525.0</td>\n",
              "      <td>False</td>\n",
              "      <td>True</td>\n",
              "      <td>False</td>\n",
              "      <td>False</td>\n",
              "      <td>False</td>\n",
              "      <td>0</td>\n",
              "    </tr>\n",
              "    <tr>\n",
              "      <th>3</th>\n",
              "      <td>4</td>\n",
              "      <td>2013-05-21 08:09:28</td>\n",
              "      <td>Clausen Nicklas</td>\n",
              "      <td>NicklasSClausen@yahoo.com</td>\n",
              "      <td>2013-05-22 08:09:28</td>\n",
              "      <td>False</td>\n",
              "      <td>False</td>\n",
              "      <td>1</td>\n",
              "      <td>5151.0</td>\n",
              "      <td>True</td>\n",
              "      <td>False</td>\n",
              "      <td>False</td>\n",
              "      <td>False</td>\n",
              "      <td>False</td>\n",
              "      <td>0</td>\n",
              "    </tr>\n",
              "    <tr>\n",
              "      <th>4</th>\n",
              "      <td>5</td>\n",
              "      <td>2013-01-17 10:14:20</td>\n",
              "      <td>Raw Grace</td>\n",
              "      <td>GraceRaw@yahoo.com</td>\n",
              "      <td>2013-01-22 10:14:20</td>\n",
              "      <td>False</td>\n",
              "      <td>False</td>\n",
              "      <td>193</td>\n",
              "      <td>5240.0</td>\n",
              "      <td>True</td>\n",
              "      <td>False</td>\n",
              "      <td>False</td>\n",
              "      <td>False</td>\n",
              "      <td>False</td>\n",
              "      <td>0</td>\n",
              "    </tr>\n",
              "    <tr>\n",
              "      <th>...</th>\n",
              "      <td>...</td>\n",
              "      <td>...</td>\n",
              "      <td>...</td>\n",
              "      <td>...</td>\n",
              "      <td>...</td>\n",
              "      <td>...</td>\n",
              "      <td>...</td>\n",
              "      <td>...</td>\n",
              "      <td>...</td>\n",
              "      <td>...</td>\n",
              "      <td>...</td>\n",
              "      <td>...</td>\n",
              "      <td>...</td>\n",
              "      <td>...</td>\n",
              "      <td>...</td>\n",
              "    </tr>\n",
              "    <tr>\n",
              "      <th>11995</th>\n",
              "      <td>11996</td>\n",
              "      <td>2013-09-06 06:14:15</td>\n",
              "      <td>Meier Sophia</td>\n",
              "      <td>SophiaMeier@gustr.com</td>\n",
              "      <td>2013-09-06 06:14:15</td>\n",
              "      <td>False</td>\n",
              "      <td>False</td>\n",
              "      <td>89</td>\n",
              "      <td>8263.0</td>\n",
              "      <td>False</td>\n",
              "      <td>True</td>\n",
              "      <td>False</td>\n",
              "      <td>False</td>\n",
              "      <td>False</td>\n",
              "      <td>0</td>\n",
              "    </tr>\n",
              "    <tr>\n",
              "      <th>11996</th>\n",
              "      <td>11997</td>\n",
              "      <td>2013-01-10 18:28:37</td>\n",
              "      <td>Fisher Amelie</td>\n",
              "      <td>AmelieFisher@gmail.com</td>\n",
              "      <td>2013-01-15 18:28:37</td>\n",
              "      <td>False</td>\n",
              "      <td>False</td>\n",
              "      <td>200</td>\n",
              "      <td>NaN</td>\n",
              "      <td>False</td>\n",
              "      <td>False</td>\n",
              "      <td>False</td>\n",
              "      <td>False</td>\n",
              "      <td>True</td>\n",
              "      <td>0</td>\n",
              "    </tr>\n",
              "    <tr>\n",
              "      <th>11997</th>\n",
              "      <td>11998</td>\n",
              "      <td>2014-04-27 12:45:16</td>\n",
              "      <td>Haynes Jake</td>\n",
              "      <td>JakeHaynes@cuvox.de</td>\n",
              "      <td>2014-04-27 12:45:16</td>\n",
              "      <td>True</td>\n",
              "      <td>True</td>\n",
              "      <td>83</td>\n",
              "      <td>8074.0</td>\n",
              "      <td>True</td>\n",
              "      <td>False</td>\n",
              "      <td>False</td>\n",
              "      <td>False</td>\n",
              "      <td>False</td>\n",
              "      <td>0</td>\n",
              "    </tr>\n",
              "    <tr>\n",
              "      <th>11998</th>\n",
              "      <td>11999</td>\n",
              "      <td>2012-05-31 11:55:59</td>\n",
              "      <td>Faber Annett</td>\n",
              "      <td>mhaerzxp@iuxiw.com</td>\n",
              "      <td>2012-06-02 11:55:59</td>\n",
              "      <td>False</td>\n",
              "      <td>False</td>\n",
              "      <td>6</td>\n",
              "      <td>NaN</td>\n",
              "      <td>False</td>\n",
              "      <td>False</td>\n",
              "      <td>True</td>\n",
              "      <td>False</td>\n",
              "      <td>False</td>\n",
              "      <td>0</td>\n",
              "    </tr>\n",
              "    <tr>\n",
              "      <th>11999</th>\n",
              "      <td>12000</td>\n",
              "      <td>2014-01-26 08:57:12</td>\n",
              "      <td>Lima Thaís</td>\n",
              "      <td>ThaisMeloLima@hotmail.com</td>\n",
              "      <td>2014-01-26 08:57:12</td>\n",
              "      <td>False</td>\n",
              "      <td>True</td>\n",
              "      <td>0</td>\n",
              "      <td>NaN</td>\n",
              "      <td>False</td>\n",
              "      <td>False</td>\n",
              "      <td>False</td>\n",
              "      <td>True</td>\n",
              "      <td>False</td>\n",
              "      <td>0</td>\n",
              "    </tr>\n",
              "  </tbody>\n",
              "</table>\n",
              "<p>12000 rows × 15 columns</p>\n",
              "</div>\n",
              "      <button class=\"colab-df-convert\" onclick=\"convertToInteractive('df-084c685c-ffbb-490d-85a4-7b99dbd699bf')\"\n",
              "              title=\"Convert this dataframe to an interactive table.\"\n",
              "              style=\"display:none;\">\n",
              "        \n",
              "  <svg xmlns=\"http://www.w3.org/2000/svg\" height=\"24px\"viewBox=\"0 0 24 24\"\n",
              "       width=\"24px\">\n",
              "    <path d=\"M0 0h24v24H0V0z\" fill=\"none\"/>\n",
              "    <path d=\"M18.56 5.44l.94 2.06.94-2.06 2.06-.94-2.06-.94-.94-2.06-.94 2.06-2.06.94zm-11 1L8.5 8.5l.94-2.06 2.06-.94-2.06-.94L8.5 2.5l-.94 2.06-2.06.94zm10 10l.94 2.06.94-2.06 2.06-.94-2.06-.94-.94-2.06-.94 2.06-2.06.94z\"/><path d=\"M17.41 7.96l-1.37-1.37c-.4-.4-.92-.59-1.43-.59-.52 0-1.04.2-1.43.59L10.3 9.45l-7.72 7.72c-.78.78-.78 2.05 0 2.83L4 21.41c.39.39.9.59 1.41.59.51 0 1.02-.2 1.41-.59l7.78-7.78 2.81-2.81c.8-.78.8-2.07 0-2.86zM5.41 20L4 18.59l7.72-7.72 1.47 1.35L5.41 20z\"/>\n",
              "  </svg>\n",
              "      </button>\n",
              "      \n",
              "  <style>\n",
              "    .colab-df-container {\n",
              "      display:flex;\n",
              "      flex-wrap:wrap;\n",
              "      gap: 12px;\n",
              "    }\n",
              "\n",
              "    .colab-df-convert {\n",
              "      background-color: #E8F0FE;\n",
              "      border: none;\n",
              "      border-radius: 50%;\n",
              "      cursor: pointer;\n",
              "      display: none;\n",
              "      fill: #1967D2;\n",
              "      height: 32px;\n",
              "      padding: 0 0 0 0;\n",
              "      width: 32px;\n",
              "    }\n",
              "\n",
              "    .colab-df-convert:hover {\n",
              "      background-color: #E2EBFA;\n",
              "      box-shadow: 0px 1px 2px rgba(60, 64, 67, 0.3), 0px 1px 3px 1px rgba(60, 64, 67, 0.15);\n",
              "      fill: #174EA6;\n",
              "    }\n",
              "\n",
              "    [theme=dark] .colab-df-convert {\n",
              "      background-color: #3B4455;\n",
              "      fill: #D2E3FC;\n",
              "    }\n",
              "\n",
              "    [theme=dark] .colab-df-convert:hover {\n",
              "      background-color: #434B5C;\n",
              "      box-shadow: 0px 1px 3px 1px rgba(0, 0, 0, 0.15);\n",
              "      filter: drop-shadow(0px 1px 2px rgba(0, 0, 0, 0.3));\n",
              "      fill: #FFFFFF;\n",
              "    }\n",
              "  </style>\n",
              "\n",
              "      <script>\n",
              "        const buttonEl =\n",
              "          document.querySelector('#df-084c685c-ffbb-490d-85a4-7b99dbd699bf button.colab-df-convert');\n",
              "        buttonEl.style.display =\n",
              "          google.colab.kernel.accessAllowed ? 'block' : 'none';\n",
              "\n",
              "        async function convertToInteractive(key) {\n",
              "          const element = document.querySelector('#df-084c685c-ffbb-490d-85a4-7b99dbd699bf');\n",
              "          const dataTable =\n",
              "            await google.colab.kernel.invokeFunction('convertToInteractive',\n",
              "                                                     [key], {});\n",
              "          if (!dataTable) return;\n",
              "\n",
              "          const docLinkHtml = 'Like what you see? Visit the ' +\n",
              "            '<a target=\"_blank\" href=https://colab.research.google.com/notebooks/data_table.ipynb>data table notebook</a>'\n",
              "            + ' to learn more about interactive tables.';\n",
              "          element.innerHTML = '';\n",
              "          dataTable['output_type'] = 'display_data';\n",
              "          await google.colab.output.renderOutput(dataTable, element);\n",
              "          const docLink = document.createElement('div');\n",
              "          docLink.innerHTML = docLinkHtml;\n",
              "          element.appendChild(docLink);\n",
              "        }\n",
              "      </script>\n",
              "    </div>\n",
              "  </div>\n",
              "  "
            ]
          },
          "metadata": {},
          "execution_count": 52
        }
      ]
    },
    {
      "cell_type": "code",
      "source": [],
      "metadata": {
        "id": "Em_ZSZV1Il_a"
      },
      "execution_count": null,
      "outputs": []
    },
    {
      "cell_type": "code",
      "source": [],
      "metadata": {
        "id": "EqzAyDNGIlvo"
      },
      "execution_count": null,
      "outputs": []
    },
    {
      "cell_type": "code",
      "source": [],
      "metadata": {
        "id": "LTgyEnY78k7h"
      },
      "execution_count": 52,
      "outputs": []
    },
    {
      "cell_type": "markdown",
      "source": [],
      "metadata": {
        "id": "O6_Edb8Rla6c"
      }
    },
    {
      "cell_type": "code",
      "source": [
        "\n",
        "from sklearn.model_selection import train_test_split\n",
        "X_train, X_test, y_train, y_test = train_test_split(X,y, test_size =0.3)"
      ],
      "metadata": {
        "id": "HyYvUR9N9TDK"
      },
      "execution_count": 45,
      "outputs": []
    },
    {
      "cell_type": "code",
      "source": [],
      "metadata": {
        "id": "aJu1JfyNDApy"
      },
      "execution_count": null,
      "outputs": []
    },
    {
      "cell_type": "code",
      "source": [
        "\n",
        "from sklearn.linear_model import LogisticRegression \n",
        "from sklearn.metrics import accuracy_score\n",
        "model = LogisticRegression() \n",
        "model.fit(X_train, y_train)\n",
        "model.score(X_test,y_test)\n",
        "pred = model.predict(X_test)\n"
      ],
      "metadata": {
        "id": "KFYdcINmQLiA",
        "colab": {
          "base_uri": "https://localhost:8080/"
        },
        "outputId": "6a02bb8c-0de3-473d-ace7-33ed95bd62b5"
      },
      "execution_count": 49,
      "outputs": [
        {
          "output_type": "execute_result",
          "data": {
            "text/plain": [
              "array([0, 0, 0, ..., 0, 0, 0])"
            ]
          },
          "metadata": {},
          "execution_count": 49
        }
      ]
    },
    {
      "cell_type": "code",
      "source": [],
      "metadata": {
        "id": "Q9L7kHg01-5e"
      },
      "execution_count": null,
      "outputs": []
    },
    {
      "cell_type": "markdown",
      "source": [
        "# New section"
      ],
      "metadata": {
        "id": "zsyXR1MUNcCX"
      }
    },
    {
      "cell_type": "code",
      "source": [],
      "metadata": {
        "id": "l8ej_Nhq0QBO"
      },
      "execution_count": null,
      "outputs": []
    },
    {
      "cell_type": "code",
      "source": [],
      "metadata": {
        "id": "QjoMTT9yYcCH"
      },
      "execution_count": null,
      "outputs": []
    },
    {
      "cell_type": "code",
      "source": [],
      "metadata": {
        "id": "FZKFm00brPQm"
      },
      "execution_count": null,
      "outputs": []
    }
  ]
}